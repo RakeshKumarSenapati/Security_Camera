{
 "cells": [
  {
   "cell_type": "code",
   "execution_count": 1,
   "id": "e1603408",
   "metadata": {},
   "outputs": [
    {
     "name": "stdout",
     "output_type": "stream",
     "text": [
      "Requirement already satisfied: opencv-python in c:\\users\\user\\anaconda3\\lib\\site-packages (4.7.0.72)\n",
      "Requirement already satisfied: numpy>=1.17.0 in c:\\users\\user\\anaconda3\\lib\\site-packages (from opencv-python) (1.20.1)\n",
      "Note: you may need to restart the kernel to use updated packages.\n"
     ]
    }
   ],
   "source": [
    "pip install opencv-python"
   ]
  },
  {
   "cell_type": "code",
   "execution_count": 3,
   "id": "fae14c2f",
   "metadata": {},
   "outputs": [
    {
     "name": "stdout",
     "output_type": "stream",
     "text": [
      "Collecting winaudio\n",
      "  Downloading winaudio-1.0.6-py3-none-any.whl (7.7 kB)\n",
      "Installing collected packages: winaudio\n",
      "Successfully installed winaudio-1.0.6\n",
      "Note: you may need to restart the kernel to use updated packages.\n"
     ]
    }
   ],
   "source": [
    "pip install winaudio"
   ]
  },
  {
   "cell_type": "code",
   "execution_count": 1,
   "id": "1c10d4c7",
   "metadata": {},
   "outputs": [],
   "source": [
    "import cv2\n",
    "import winsound\n",
    "\n",
    "cv2.namedWindow(\"Security Cam\")\n",
    "cap = cv2.VideoCapture(0)\n",
    "\n",
    "if not cap.isOpened():\n",
    "    cap = cv2.VideoCapture(0)\n",
    "    \n",
    "if not cap.isOpened():\n",
    "    raise IOError(\"Cannot open Webcam\")\n",
    "    \n",
    "while True:\n",
    "    ret, frame1 = cap.read()\n",
    "    ret, frame2 = cap.read()\n",
    "    \n",
    "    diff = cv2.absdiff(frame1, frame2)\n",
    "    gray = cv2.cvtColor(diff, cv2.COLOR_RGB2GRAY)\n",
    "    blur = cv2.GaussianBlur(gray, (5,5), 0)\n",
    "    _, thresh = cv2.threshold(blur, 20, 255, cv2.THRESH_BINARY)\n",
    "    dilated = cv2.dilate(thresh, None, iterations = 3)\n",
    "    contours, _ = cv2.findContours(dilated, cv2.RETR_TREE, cv2.CHAIN_APPROX_SIMPLE)\n",
    "#     cv2.drawContours(frame1, contours, -1, (0, 255, 0), 2)\n",
    "    for c in contours:\n",
    "        if cv2.contourArea(c)<5000:\n",
    "            continue\n",
    "        x, y, w, h = cv2.boundingRect(c)\n",
    "        cv2.rectangle(frame1, (x, y), (x+w, y+h), (0, 255, 0), 2)\n",
    "        winsound.Beep(500, 200)\n",
    "\n",
    "    \n",
    "    if cv2.waitKey(2) & 0xFF == ord('q'):\n",
    "        break\n",
    "    cv2.imshow(\"Security Cam\", frame1)\n",
    "    \n",
    "cap.release()\n",
    "cv2.destroyWindow(\"Security Cam\")"
   ]
  },
  {
   "cell_type": "code",
   "execution_count": null,
   "id": "4189e807",
   "metadata": {},
   "outputs": [],
   "source": []
  }
 ],
 "metadata": {
  "kernelspec": {
   "display_name": "Python 3",
   "language": "python",
   "name": "python3"
  },
  "language_info": {
   "codemirror_mode": {
    "name": "ipython",
    "version": 3
   },
   "file_extension": ".py",
   "mimetype": "text/x-python",
   "name": "python",
   "nbconvert_exporter": "python",
   "pygments_lexer": "ipython3",
   "version": "3.8.8"
  }
 },
 "nbformat": 4,
 "nbformat_minor": 5
}
